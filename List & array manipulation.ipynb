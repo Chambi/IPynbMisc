{
 "metadata": {
  "name": "List & array manipulation"
 },
 "nbformat": 3,
 "nbformat_minor": 0,
 "worksheets": [
  {
   "cells": [
    {
     "cell_type": "heading",
     "level": 1,
     "metadata": {},
     "source": [
      "List & array manipulation"
     ]
    },
    {
     "cell_type": "code",
     "collapsed": false,
     "input": [
      "mylist = [0]*5 \n",
      "something = ['la', 'le', 'lu']\n",
      "changeit = ['mo', 'me', 'mi']\n",
      "mylist[0] = something\n",
      "mylist[0] = changeit\n",
      "\n",
      "print mylist"
     ],
     "language": "python",
     "metadata": {},
     "outputs": [
      {
       "output_type": "stream",
       "stream": "stdout",
       "text": [
        "[['mo', 'me', 'mi'], 0, 0, 0, 0]\n"
       ]
      }
     ],
     "prompt_number": 2
    },
    {
     "cell_type": "code",
     "collapsed": false,
     "input": [],
     "language": "python",
     "metadata": {},
     "outputs": []
    }
   ],
   "metadata": {}
  }
 ]
}