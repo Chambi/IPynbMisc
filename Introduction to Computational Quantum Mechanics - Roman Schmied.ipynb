{
 "metadata": {
  "name": "Introduction to Computational Quantum Mechanics - Roman Schmied"
 },
 "nbformat": 3,
 "nbformat_minor": 0,
 "worksheets": [
  {
   "cells": [
    {
     "cell_type": "heading",
     "level": 1,
     "metadata": {},
     "source": [
      "Introduction to Computational Quantum Mechanics "
     ]
    },
    {
     "cell_type": "markdown",
     "metadata": {},
     "source": [
      "Calculations to\n",
      "\n",
      "Introduction to\n",
      "Computational QuantumMechanics\n",
      "Fall Semester 2012\n",
      "Dr. Roman Schmied\n",
      "Department of Physics, University of Basel, Switzerland\n",
      "roman.schmied@unibas.ch\n",
      "\n",
      "Links:\n",
      "<a href=\"evernote:///view/14744615/s133/113a5d99-2470-4bb5-8b21-c2be84712b3c/113a5d99-2470-4bb5-8b21-c2be84712b3c/\">Evernote</a> (contains pdf lecture notes)  \n",
      "<a href=\"http://atom.physik.unibas.ch/research/research.php\">Treutlein group homepage</a> "
     ]
    },
    {
     "cell_type": "code",
     "collapsed": false,
     "input": [
      "from pylab import *\n",
      "from numpy import *\n",
      "from sympy import *"
     ],
     "language": "python",
     "metadata": {},
     "outputs": [],
     "prompt_number": 16
    },
    {
     "cell_type": "heading",
     "level": 2,
     "metadata": {},
     "source": [
      "1.7 Vectors and Matrices"
     ]
    },
    {
     "cell_type": "code",
     "collapsed": false,
     "input": [
      "# scalar product with numerical (numpy) arrays\n",
      "a = [0.1, 0.2, 0.3 + 2*1j]\n",
      "b = [-0.27j, 0, 2]\n",
      "dot(conjugate(a),b)"
     ],
     "language": "python",
     "metadata": {},
     "outputs": [
      {
       "output_type": "pyout",
       "prompt_number": 7,
       "text": [
        "(0.6-4.027j)"
       ]
      }
     ],
     "prompt_number": 7
    },
    {
     "cell_type": "code",
     "collapsed": false,
     "input": [
      "# scalar product with symbolic (sympy) matrices\n",
      "a = Matrix([0.1, 0.2, 0.3 + 2*1j])\n",
      "b = Matrix([-0.27j, 0, 2])\n",
      "a.transpose()*b"
     ],
     "language": "python",
     "metadata": {},
     "outputs": [
      {
       "latex": [
        "$$\\left(\\begin{smallmatrix}0.6 + 3.973 \\mathbf{\\imath}\\end{smallmatrix}\\right)$$"
       ],
       "output_type": "pyout",
       "prompt_number": 19,
       "text": [
        "[0.6 + 3.973\u22c5\u2148]"
       ]
      }
     ],
     "prompt_number": 19
    },
    {
     "cell_type": "code",
     "collapsed": false,
     "input": [
      "# matrix properties with sympy\n",
      "M = Matrix([[3,2,7], [1,1,2], [0,-1,5], [2,2,1]])\n",
      "print len(M), shape(M), M[3,1], M[:,2], M[2,:]\n",
      "M, M.transpose(), M*a"
     ],
     "language": "python",
     "metadata": {},
     "outputs": [
      {
       "output_type": "stream",
       "stream": "stdout",
       "text": [
        "12 (4, 3) 2 [7]\n",
        "[2]\n",
        "[5]\n",
        "[1] [0, -1, 5]\n"
       ]
      },
      {
       "latex": [
        "$$\\begin{pmatrix}\\left(\\begin{smallmatrix}3 & 2 & 7\\\\1 & 1 & 2\\\\0 & -1 & 5\\\\2 & 2 & 1\\end{smallmatrix}\\right), & \\left(\\begin{smallmatrix}3 & 1 & 0 & 2\\\\2 & 1 & -1 & 2\\\\7 & 2 & 5 & 1\\end{smallmatrix}\\right), & \\left(\\begin{smallmatrix}2.8 + 14.0 \\mathbf{\\imath}\\\\0.9 + 4.0 \\mathbf{\\imath}\\\\1.3 + 10.0 \\mathbf{\\imath}\\\\0.9 + 2.0 \\mathbf{\\imath}\\end{smallmatrix}\\right)\\end{pmatrix}$$"
       ],
       "output_type": "pyout",
       "prompt_number": 49,
       "text": [
        "(\n",
        "\u23a13  2   7\u23a4\n",
        "\u23a2        \u23a5\n",
        "\u23a21  1   2\u23a5\n",
        "\u23a2        \u23a5\n",
        "\u23a20  -1  5\u23a5\n",
        "\u23a2        \u23a5\n",
        "\u23a32  2   1\u23a6,\n",
        " \n",
        "\u23a13  1  0   2\u23a4\n",
        "\u23a2           \u23a5\n",
        "\u23a22  1  -1  2\u23a5\n",
        "\u23a2           \u23a5\n",
        "\u23a37  2  5   1\u23a6,\n",
        " \n",
        "\u23a12.8 + 14.0\u22c5\u2148\u23a4\n",
        "\u23a2            \u23a5\n",
        "\u23a20.9 + 4.0\u22c5\u2148 \u23a5\n",
        "\u23a2            \u23a5\n",
        "\u23a21.3 + 10.0\u22c5\u2148\u23a5\n",
        "\u23a2            \u23a5\n",
        "\u23a30.9 + 2.0\u22c5\u2148 \u23a6)"
       ]
      }
     ],
     "prompt_number": 49
    },
    {
     "cell_type": "code",
     "collapsed": false,
     "input": [
      "# Defining matrices with symbols and substituting them\n",
      "[x1,x2,x3,x4]=symbols(['x1','x2','x3','x4'])\n",
      "A=Matrix([[x1,x2],[x3,x4]])\n",
      "A, A.subs({x1:1,x2:1,x3:1,x4:1})"
     ],
     "language": "python",
     "metadata": {},
     "outputs": [
      {
       "latex": [
        "$$\\begin{pmatrix}\\left(\\begin{smallmatrix}x_{1} & x_{2}\\\\x_{3} & x_{4}\\end{smallmatrix}\\right), & \\left(\\begin{smallmatrix}1 & 1\\\\1 & 1\\end{smallmatrix}\\right)\\end{pmatrix}$$"
       ],
       "output_type": "pyout",
       "prompt_number": 123,
       "text": [
        "(\n",
        "\u23a1x\u2081  x\u2082\u23a4\n",
        "\u23a2      \u23a5\n",
        "\u23a3x\u2083  x\u2084\u23a6, \n",
        "\u23a11  1\u23a4\n",
        "\u23a2    \u23a5\n",
        "\u23a31  1\u23a6)"
       ]
      }
     ],
     "prompt_number": 123
    },
    {
     "cell_type": "code",
     "collapsed": false,
     "input": [
      "# Sparse matrices with many zero elements\n",
      "M = Matrix([[0,3,0,0,0,0,0,0,0,0],\n",
      "     [0,0,0,-1,0,0,0,0,0,0],\n",
      "    [0,0,0,0,0,0,0,0,0,0]]);\n",
      "Ma = zeros(2)\n",
      "Ma[0,0]=2\n",
      "Ms = SparseMatrix(5,5, lambda i,j:0)\n",
      "Ms[2,3]=100\n",
      "M,Ma,Ms.toMatrix(), Ms.col_list(), Ms.row_list()"
     ],
     "language": "python",
     "metadata": {},
     "outputs": [
      {
       "latex": [
        "$$\\begin{pmatrix}\\left(\\begin{smallmatrix}0 & 3 & 0 & 0 & 0 & 0 & 0 & 0 & 0 & 0\\\\0 & 0 & 0 & -1 & 0 & 0 & 0 & 0 & 0 & 0\\\\0 & 0 & 0 & 0 & 0 & 0 & 0 & 0 & 0 & 0\\end{smallmatrix}\\right), & \\left(\\begin{smallmatrix}2 & 0\\\\0 & 0\\end{smallmatrix}\\right), & \\left(\\begin{smallmatrix}0 & 0 & 0 & 0 & 0\\\\0 & 0 & 0 & 0 & 0\\\\0 & 0 & 0 & 100 & 0\\\\0 & 0 & 0 & 0 & 0\\\\0 & 0 & 0 & 0 & 0\\end{smallmatrix}\\right), & \\begin{bmatrix}\\begin{pmatrix}2, & 3, & 100\\end{pmatrix}\\end{bmatrix}, & \\begin{bmatrix}\\begin{pmatrix}2, & 3, & 100\\end{pmatrix}\\end{bmatrix}\\end{pmatrix}$$"
       ],
       "output_type": "pyout",
       "prompt_number": 105,
       "text": [
        "(\n",
        "\u23a10  3  0  0   0  0  0  0  0  0\u23a4\n",
        "\u23a2                             \u23a5\n",
        "\u23a20  0  0  -1  0  0  0  0  0  0\u23a5\n",
        "\u23a2                             \u23a5\n",
        "\u23a30  0  0  0   0  0  0  0  0  0\u23a6,\n",
        " \n",
        "\u23a12  0\u23a4\n",
        "\u23a2    \u23a5\n",
        "\u23a30  0\u23a6,\n",
        " \n",
        "\u23a10  0  0   0   0\u23a4\n",
        "\u23a2               \u23a5\n",
        "\u23a20  0  0   0   0\u23a5\n",
        "\u23a2               \u23a5\n",
        "\u23a20  0  0  100  0\u23a5\n",
        "\u23a2               \u23a5\n",
        "\u23a20  0  0   0   0\u23a5\n",
        "\u23a2               \u23a5\n",
        "\u23a30  0  0   0   0\u23a6,\n",
        " [(2, 3, 100)],\n",
        " [(2, 3, 100)])"
       ]
      }
     ],
     "prompt_number": 105
    },
    {
     "cell_type": "code",
     "collapsed": false,
     "input": [
      "# Diagonalization & Eigenvalues with sympy\n",
      "H = Matrix([[0, 0.3, I, 0],\n",
      "            [0.3, 1, 0, 0],\n",
      "            [-I, 0, 1, -0.2],\n",
      "            [0, 0, -0.2, 3]])\n",
      "H, sorted(H.eigenvals())"
     ],
     "language": "python",
     "metadata": {},
     "outputs": [
      {
       "latex": [
        "$$\\begin{pmatrix}\\left(\\begin{smallmatrix}0 & 0.3 & \\mathbf{\\imath} & 0\\\\0.3 & 1 & 0 & 0\\\\- \\mathbf{\\imath} & 0 & 1 & -0.2\\\\0 & 0 & -0.2 & 3\\end{smallmatrix}\\right), & \\begin{bmatrix}-0.660441625167694, & 0.998321873684164, & 1.63842360478739, & 3.02369614669614\\end{bmatrix}\\end{pmatrix}$$"
       ],
       "output_type": "pyout",
       "prompt_number": 162,
       "text": [
        "(\n",
        "\u23a1 0   0.3   \u2148     0  \u23a4\n",
        "\u23a2                    \u23a5\n",
        "\u23a20.3   1    0     0  \u23a5\n",
        "\u23a2                    \u23a5\n",
        "\u23a2-\u2148    0    1    -0.2\u23a5\n",
        "\u23a2                    \u23a5\n",
        "\u23a3 0    0   -0.2   3  \u23a6,\n",
        " [-0.660441625167694, 0.998321873684164, 1.63842360478739, 3.02369614669614])"
       ]
      }
     ],
     "prompt_number": 162
    },
    {
     "cell_type": "code",
     "collapsed": false,
     "input": [
      "from scipy import linalg as LA\n",
      "H = matrix([[0, 0.3, 1j, 0],\n",
      "            [0.3, 1, 0, 0],\n",
      "            [-1j, 0, 1, -0.2],\n",
      "            [0, 0, -0.2, 3]])\n",
      "# LA.eigh(H) returns eigenvalues & -vectors with limit eigvals = lowest, highest\n",
      "LA.eigvals(H), LA.eigh(H, eigvals=(0,1))"
     ],
     "language": "python",
     "metadata": {},
     "outputs": [
      {
       "output_type": "pyout",
       "prompt_number": 180,
       "text": [
        "(\n",
        " [-0.66044163 -6.62517422e-22j  3.02369615 +1.07406764e-18j\n",
        "  1.63842360 +4.11446771e-20j  0.99832187 -7.51133459e-19j],\n",
        " ([-0.66044163  0.99832187],\n",
        "  \n",
        " [[  8.44772226e-01 +0.00000000e+00j  -5.34719713e-03 +0.00000000e+00j]\n",
        "  [ -1.52629074e-01 -3.82181266e-18j   9.55922760e-01 -6.37258462e-16j]\n",
        "  [  0.00000000e+00 +5.12134020e-01j   1.87350135e-16 +2.92115052e-01j]\n",
        " [  2.18333045e-20 +2.79820892e-02j   4.67284725e-17 +2.91870154e-02j]]))"
       ]
      }
     ],
     "prompt_number": 180
    },
    {
     "cell_type": "markdown",
     "metadata": {},
     "source": [
      "<b> 1.7.5 exercises </b>\n",
      "Q1.19: Calculate the eigenvalues and eigenvectors of the Pauli matrices:\n",
      "http://en.wikipedia.org/wiki/Pauli_matrices\n",
      "Are the eigenvectors ortho-normal? If not, find an ortho-normal set."
     ]
    },
    {
     "cell_type": "code",
     "collapsed": false,
     "input": [
      "### Exercise 1.7.5 ###\n",
      "\n",
      "# The Pauli matrices are given as \n",
      "s1 = matrix([[0,1],\n",
      "             [1,0]])\n",
      "s2 = matrix([[0,-1j],\n",
      "             [1j,0]])\n",
      "s3 = matrix([[1,0],\n",
      "             [0,-1]])\n",
      "\n",
      "# Their eigenvalues and eigenvectors are:\n",
      "from scipy import linalg\n",
      "val1,vec1 = linalg.eig(s1)\n",
      "val2,vec2 = linalg.eig(s2)\n",
      "val3,vec3 = linalg.eig(s3)\n",
      "\n",
      "####### Check by calculation from hand. Eigenvectors orthonormal? p.27"
     ],
     "language": "python",
     "metadata": {},
     "outputs": [
      {
       "output_type": "pyout",
       "prompt_number": 197,
       "text": [
        "(-0.5-0.5j)"
       ]
      }
     ],
     "prompt_number": 197
    },
    {
     "cell_type": "code",
     "collapsed": false,
     "input": [],
     "language": "python",
     "metadata": {},
     "outputs": []
    }
   ],
   "metadata": {}
  }
 ]
}