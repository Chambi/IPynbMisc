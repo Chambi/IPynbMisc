{
 "metadata": {
  "name": "Guitar Project"
 },
 "nbformat": 3,
 "nbformat_minor": 0,
 "worksheets": [
  {
   "cells": [
    {
     "cell_type": "heading",
     "level": 1,
     "metadata": {},
     "source": [
      "The Guitar Project"
     ]
    },
    {
     "cell_type": "code",
     "collapsed": false,
     "input": [
      "import pyaudio\n",
      "import wave\n",
      "import sys\n",
      "from numpy import *\n",
      "from pylab import *"
     ],
     "language": "python",
     "metadata": {},
     "outputs": [],
     "prompt_number": 1
    },
    {
     "cell_type": "heading",
     "level": 3,
     "metadata": {},
     "source": [
      "Real Time Fourier Transform"
     ]
    },
    {
     "cell_type": "code",
     "collapsed": false,
     "input": [
      "def record():\n",
      "    chunk = 1024\n",
      "    FORMAT = pyaudio.paInt16\n",
      "    CHANNELS = 1\n",
      "    RATE = 44100\n",
      "    RECORD_SECONDS = 2\n",
      "\n",
      "    p = pyaudio.PyAudio()\n",
      "    stream = p.open(format = FORMAT,\n",
      "                    channels = CHANNELS,\n",
      "                    rate = RATE,\n",
      "                    input = True,\n",
      "                    output = True,\n",
      "                    frames_per_buffer = chunk)\n",
      "    print \"* recording\"\n",
      "    inp = []\n",
      "    try:\n",
      "        for i in range(0, int(RATE / chunk * RECORD_SECONDS)):\n",
      "            data = stream.read(chunk)\n",
      "            inp.extend(frombuffer(data,dtype = \"int16\"))\n",
      "    except KeyboardInterrupt:\n",
      "        pass\n",
      "    finally:\n",
      "        print \"* done recording\" \n",
      "        stream.stop_stream()\n",
      "        stream.close()\n",
      "        p.terminate()\n",
      "    t = linspace(0,RECORD_SECONDS, len(inp))\n",
      "    return t, inp"
     ],
     "language": "python",
     "metadata": {},
     "outputs": [],
     "prompt_number": 11
    },
    {
     "cell_type": "code",
     "collapsed": false,
     "input": [
      "mytime, recorded = record()"
     ],
     "language": "python",
     "metadata": {},
     "outputs": [
      {
       "output_type": "stream",
       "stream": "stdout",
       "text": [
        "* recording\n",
        "* done recording"
       ]
      },
      {
       "output_type": "stream",
       "stream": "stdout",
       "text": [
        "\n"
       ]
      }
     ],
     "prompt_number": 12
    },
    {
     "cell_type": "code",
     "collapsed": false,
     "input": [
      "plot(mytime,recorded)\n",
      "show()\n",
      "len(recorded)"
     ],
     "language": "python",
     "metadata": {},
     "outputs": [
      {
       "output_type": "pyout",
       "png": "[encoded data removed]",
       "prompt_number": 13,
       "text": [
        "88064"
       ]
      }
     ],
     "prompt_number": 13
    },
    {
     "cell_type": "code",
     "collapsed": false,
     "input": [
      "#1.09 - 1.5\n",
      "\n",
      "import numpy as np\n",
      "import time\n",
      "\n",
      "# Gives Spectrum of Data\n",
      "def frequency_analysis(time, signal):\n",
      "    spectrum = np.fft.fft(signal)#*np.hanning(len(signal)))\n",
      "    dt = abs(time[-1] - time[0])/len(time)\n",
      "    frate = 1/dt\n",
      "    freq = np.fft.fftfreq(len(signal))\n",
      "    freq_in_hertz=abs(freq*frate) # from http://stackoverflow.com/questions/3694918/how-to-extract-frequency-associated-with-fft-values-in-python\n",
      "    \"\"\" Check if the frequencies are in agreement with Nyquist sampling theorem:\n",
      "    f_min_exp = 1/2*1/(time[-1]-time[0])\n",
      "    f_max_exp = 1/2*1/dt\n",
      "    print f_min_exp, f_max_exp, min(freq_in_hertz), max(freq_in_hertz)\"\"\"\n",
      "    # Remove small high frequency part\n",
      "    tol = 0.05*abs(spectrum).max()\n",
      "    for i in xrange(len(spectrum)-1, 0, -1):\n",
      "        if abs(spectrum[i]) > tol:\n",
      "            break\n",
      "    return freq_in_hertz[:i+1], spectrum[:i+1] \n",
      "\n",
      "# Try out FFT with 5 Hz signal\n",
      "t = mytime\n",
      "signal = recorded\n",
      "t0 = time.time()\n",
      "freq, spectrum = frequency_analysis(t, signal)\n",
      "t1 = time.time()\n",
      "print t1-t0\n",
      "figure()\n",
      "subplot(211)\n",
      "plot(t,signal)\n",
      "subplot(212)\n",
      "plot(freq, abs(spectrum))\n",
      "show()\n"
     ],
     "language": "python",
     "metadata": {},
     "outputs": [
      {
       "output_type": "stream",
       "stream": "stdout",
       "text": [
        "0.055999994278\n"
       ]
      }
     ],
     "prompt_number": 14
    },
    {
     "cell_type": "code",
     "collapsed": false,
     "input": [],
     "language": "python",
     "metadata": {},
     "outputs": []
    },
    {
     "cell_type": "code",
     "collapsed": false,
     "input": [
      "#!/usr/bin/env python\n",
      "\n",
      "import pyaudio\n",
      "import wave\n",
      "import sys\n",
      "\n",
      "def record(output_filename):\n",
      "    chunk = 1024\n",
      "    FORMAT = pyaudio.paInt16\n",
      "    CHANNELS = 2\n",
      "    RATE = 44100\n",
      "    RECORD_SECONDS = 4\n",
      "\n",
      "    if sys.platform == 'darwin':\n",
      "        CHANNELS = 1\n",
      "\n",
      "    p = pyaudio.PyAudio()\n",
      "\n",
      "    stream = p.open(format = FORMAT,\n",
      "                    channels = CHANNELS,\n",
      "                    rate = RATE,\n",
      "                    input = True,\n",
      "                    frames_per_buffer = chunk)\n",
      "\n",
      "    print \"* recording\"\n",
      "    all = []\n",
      "    try:\n",
      "        for i in range(0, int(RATE / chunk * RECORD_SECONDS)):\n",
      "            data = stream.read(chunk)\n",
      "            all.append(data)\n",
      "    except KeyboardInterrupt:\n",
      "        pass\n",
      "    finally:\n",
      "        print \"* done recording\"        \n",
      "        stream.stop_stream()\n",
      "        stream.close()\n",
      "        p.terminate()\n",
      "\n",
      "        # write data to WAVE file\n",
      "        data = ''.join(all)\n",
      "        wf = wave.open(output_filename, 'wb')\n",
      "        wf.setnchannels(CHANNELS)\n",
      "        wf.setsampwidth(p.get_sample_size(FORMAT))\n",
      "        wf.setframerate(RATE)\n",
      "        wf.writeframes(data)\n",
      "        wf.close()\n",
      "    \n",
      "\n",
      "def playback(output_filename):\n",
      "    chunk = 1024\n",
      "\n",
      "    PyAudio = pyaudio.PyAudio\n",
      "    \n",
      "    wf = wave.open(output_filename, 'rb')\n",
      "\n",
      "    p = PyAudio()\n",
      "\n",
      "    # open stream\n",
      "    stream = p.open(format =\n",
      "                    p.get_format_from_width(wf.getsampwidth()),\n",
      "                    channels = wf.getnchannels(),\n",
      "                    rate = wf.getframerate(),\n",
      "                    output = True)\n",
      "    \n",
      "    # read data\n",
      "    data = wf.readframes(chunk)\n",
      "    \n",
      "    # play stream\n",
      "    while data != '':\n",
      "        stream.write(data)\n",
      "        data = wf.readframes(chunk)\n",
      "        \n",
      "    stream.stop_stream()\n",
      "    stream.close()        \n",
      "    p.terminate()\n",
      "\n",
      "if __name__ == \"__main__\":\n",
      "    username = 'anna'\n",
      "    record(username + \".wav\")\n",
      "    print \"Thanks! Here's your file played back.\"\n",
      "    playback(username + \".wav\")\n",
      "    \n"
     ],
     "language": "python",
     "metadata": {},
     "outputs": []
    }
   ],
   "metadata": {}
  }
 ]
}