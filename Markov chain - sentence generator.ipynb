{
 "metadata": {
  "name": "Markov chain - sentence generator"
 },
 "nbformat": 3,
 "nbformat_minor": 0,
 "worksheets": [
  {
   "cells": [
    {
     "cell_type": "heading",
     "level": 1,
     "metadata": {},
     "source": [
      "Markov chain - sentence generator"
     ]
    },
    {
     "cell_type": "markdown",
     "metadata": {},
     "source": [
      "The goal is to generate sentences based on a Markov chain algorithm. \n",
      "\n",
      "As a language sample <a href=\"http://www.gutenberg.org/ebooks/2591\">Grimm's fairytales</a> is chosen (\"GrimmsFairytales.txt\"). \n",
      "The \"present state\" of the Markov chain on which the probability of the next word depends is defined as the two words in front of each word. Typical sentences begin with words whose successors are the signs '. ; - ''\n",
      "Load each word from the fairytale and the two words before it. "
     ]
    },
    {
     "cell_type": "code",
     "collapsed": false,
     "input": [
      "# Load the text file into an array\n",
      "import glob\n",
      "\n",
      "# access the file\n",
      "files = glob.glob('GrimmsFairytales.txt')\n",
      "\n",
      "def load_lines(file):\n",
      "\tlines = []\n",
      "\tf = open(file,'r')\n",
      "\tlines.append(f.readlines()[0:])\n",
      "\t#print \"file \",file,\" found \"\n",
      "\tprint \"loaded lines \", lines[0][0:3], \"...\"\n",
      "\tf.close()\n",
      "\treturn lines[0]\n",
      "\n",
      "text = load_lines(files[0])"
     ],
     "language": "python",
     "metadata": {},
     "outputs": [
      {
       "output_type": "stream",
       "stream": "stdout",
       "text": [
        "loaded lines  ['\\xef\\xbb\\xbfTHE GOLDEN BIRD\\n', '\\n', 'A certain king had a beautiful garden, and in the garden stood a tree\\n'] ...\n"
       ]
      }
     ],
     "prompt_number": 74
    },
    {
     "cell_type": "code",
     "collapsed": false,
     "input": [
      "# list \"text\" contains always a line of the story ending with \\n \n",
      "# --> check that indeed all lines end with '\\n' via\n",
      "print \"All lines end width '\\\\n':\", all([line.endswith('\\n') for line in text]) # ---> True\n",
      "\n",
      "def store(w0, w1, w2):\n",
      "    print w0, w1, w2\n",
      "    \n",
      "for line in text[3:4]:\n",
      "    # strip the line of elements which are no words\n",
      "    line = line.strip('\\n')\n",
      "    # split the line into single words\n",
      "    line = line.split()\n",
      "    # store each found word and with its two successors into the dictionary\n",
      "    i = 0\n",
      "    for word in line[:-2]:\n",
      "        store(word, line[i+1], line[i+2])\n",
      "        i += 1"
     ],
     "language": "python",
     "metadata": {},
     "outputs": [
      {
       "output_type": "stream",
       "stream": "stdout",
       "text": [
        "All lines end width '\\n': True\n",
        "which bore golden\n",
        "bore golden apples.\n",
        "golden apples. These\n",
        "apples. These apples\n",
        "These apples were\n",
        "apples were always\n",
        "were always counted,\n",
        "always counted, and\n",
        "counted, and about\n"
       ]
      }
     ],
     "prompt_number": 100
    },
    {
     "cell_type": "code",
     "collapsed": false,
     "input": [
      "text[4]"
     ],
     "language": "python",
     "metadata": {},
     "outputs": [
      {
       "output_type": "pyout",
       "prompt_number": 102,
       "text": [
        "the time when they began to grow ripe it was found that every night one"
       ]
      }
     ],
     "prompt_number": 102
    },
    {
     "cell_type": "code",
     "collapsed": false,
     "input": [
      "# The dictionary for the textfile shall load all words contained in the textfile and save for each present state\n",
      "# = 2 words combination the next following word\n",
      "class my_dictionary():\n",
      "    def __init__(self, textfile):\n",
      "        self.text = load_lines(textfile)\n",
      "        self.dic = make_dictionary(self.text)\n",
      "\n",
      "strip_sign = ['\\n', '\\xef', '\\xbb', '\\xbf']\n",
      "my_str = 'I have\\n a xbf.  la;\\xbf \\xbb'\n",
      "\n",
      "for substr in strip_sign:\n",
      "        line = line.strip(substr)\n",
      "        \n",
      "my_str = my_str.split()\n",
      "print my_str"
     ],
     "language": "python",
     "metadata": {},
     "outputs": [
      {
       "output_type": "stream",
       "stream": "stdout",
       "text": [
        "['I', 'have', 'a', 'xbf.', 'la;\\xbf', '\\xbb']\n"
       ]
      }
     ],
     "prompt_number": 84
    },
    {
     "cell_type": "code",
     "collapsed": false,
     "input": [
      "words = [['la', 'bla'], [2,3]]\n",
      "words[1][1]\n",
      "size(words)"
     ],
     "language": "python",
     "metadata": {},
     "outputs": [
      {
       "ename": "NameError",
       "evalue": "name 'size' is not defined",
       "output_type": "pyerr",
       "traceback": [
        "\u001b[1;31m---------------------------------------------------------------------------\u001b[0m\n\u001b[1;31mNameError\u001b[0m                                 Traceback (most recent call last)",
        "\u001b[1;32m<ipython-input-91-a05386603965>\u001b[0m in \u001b[0;36m<module>\u001b[1;34m()\u001b[0m\n\u001b[0;32m      1\u001b[0m \u001b[0mwords\u001b[0m \u001b[1;33m=\u001b[0m \u001b[1;33m[\u001b[0m\u001b[1;33m[\u001b[0m\u001b[1;34m'la'\u001b[0m\u001b[1;33m,\u001b[0m \u001b[1;34m'bla'\u001b[0m\u001b[1;33m]\u001b[0m\u001b[1;33m,\u001b[0m \u001b[1;33m[\u001b[0m\u001b[1;36m2\u001b[0m\u001b[1;33m,\u001b[0m\u001b[1;36m3\u001b[0m\u001b[1;33m]\u001b[0m\u001b[1;33m]\u001b[0m\u001b[1;33m\u001b[0m\u001b[0m\n\u001b[0;32m      2\u001b[0m \u001b[0mwords\u001b[0m\u001b[1;33m[\u001b[0m\u001b[1;36m1\u001b[0m\u001b[1;33m]\u001b[0m\u001b[1;33m[\u001b[0m\u001b[1;36m1\u001b[0m\u001b[1;33m]\u001b[0m\u001b[1;33m\u001b[0m\u001b[0m\n\u001b[1;32m----> 3\u001b[1;33m \u001b[0msize\u001b[0m\u001b[1;33m(\u001b[0m\u001b[0mwords\u001b[0m\u001b[1;33m)\u001b[0m\u001b[1;33m\u001b[0m\u001b[0m\n\u001b[0m",
        "\u001b[1;31mNameError\u001b[0m: name 'size' is not defined"
       ]
      }
     ],
     "prompt_number": 91
    },
    {
     "cell_type": "code",
     "collapsed": false,
     "input": [
      "ages = {}\n",
      "ages['Sue'] = 23\n",
      "ages['Peter'] = 19\n",
      "ages['Andrew'] = 78\n",
      "ages['Karren'] = 45\n",
      "\n",
      "if ages.has_key('Sue'):\n",
      "    print \"Sue is in the dictionary. She is\", \\\n",
      "ages['Sue'], \"years old\"\n",
      "\n",
      "else:\n",
      "    print \"Sue is not in the dictionary\"\n",
      "    \n",
      "print \"The following people are in the dictionary:\"\n",
      "print ages.keys()\n",
      "keys = ages.keys()\n",
      "print \"People are aged the following:\", \\\n",
      "ages.values()"
     ],
     "language": "python",
     "metadata": {},
     "outputs": [
      {
       "output_type": "stream",
       "stream": "stdout",
       "text": [
        "Sue is in the dictionary. She is 23 years old\n",
        "The following people are in the dictionary:\n",
        "['Sue', 'Peter', 'Andrew', 'Karren']\n",
        "People are aged the following: [23, 19, 78, 45]\n"
       ]
      }
     ],
     "prompt_number": 66
    },
    {
     "cell_type": "code",
     "collapsed": false,
     "input": [
      "my_dict = { 'key1': ['value1', 'value2']}\n",
      "print my_dict.values()[0]"
     ],
     "language": "python",
     "metadata": {},
     "outputs": [
      {
       "output_type": "stream",
       "stream": "stdout",
       "text": [
        "['value1', 'value2']\n"
       ]
      }
     ],
     "prompt_number": 73
    },
    {
     "cell_type": "code",
     "collapsed": false,
     "input": [],
     "language": "python",
     "metadata": {},
     "outputs": []
    }
   ],
   "metadata": {}
  }
 ]
}