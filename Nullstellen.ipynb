{
 "metadata": {
  "name": "Nullstellen"
 },
 "nbformat": 3,
 "nbformat_minor": 0,
 "worksheets": [
  {
   "cells": [
    {
     "cell_type": "heading",
     "level": 1,
     "metadata": {},
     "source": [
      "Nullstellen"
     ]
    },
    {
     "cell_type": "code",
     "collapsed": false,
     "input": [
      "from pylab import *\n",
      "from numpy import *\n",
      "\n",
      "def f(x):\n",
      "    return x**2-2*x-1\n",
      "\n",
      "def F(x):\n",
      "    return 0.5*(x**2-1)\n",
      "\n",
      "# the known zero points of the function are\n",
      "xl = 1-sqrt(2)\n",
      "xh = 1+sqrt(2)\n",
      "\n",
      "figure()\n",
      "xvals = linspace(-2.5,2.5,100)\n",
      "plot(xvals, f(xvals))\n",
      "\n",
      "xo = 0\n",
      "niter = 500\n",
      "\n",
      "for i in arange(1,niter):\n",
      "    xn = F(xo)\n",
      "    plot(xo, xn, 'o', color = 'red')\n",
      "    xo = xn\n",
      "    i+=1\n",
      " \n",
      "grid()\n",
      "show()"
     ],
     "language": "python",
     "metadata": {},
     "outputs": [],
     "prompt_number": 18
    },
    {
     "cell_type": "code",
     "collapsed": false,
     "input": [],
     "language": "python",
     "metadata": {},
     "outputs": []
    }
   ],
   "metadata": {}
  }
 ]
}