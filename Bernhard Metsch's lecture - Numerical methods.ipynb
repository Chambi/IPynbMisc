{
 "metadata": {
  "name": "Bernhard Metsch's lecture - Numerical methods"
 },
 "nbformat": 3,
 "nbformat_minor": 0,
 "worksheets": [
  {
   "cells": [
    {
     "cell_type": "heading",
     "level": 1,
     "metadata": {},
     "source": [
      "Bernhard Metsch's lecture - Numerical methods"
     ]
    },
    {
     "cell_type": "markdown",
     "metadata": {},
     "source": [
      "Bernhard Metsch's lecture <a href=\"http://www.iskp.uni-bonn.de/index.php?id=230\">here</a>\n",
      "<ol>\n",
      "    <li> Nullstellensuche nichtlinearer Gleichungen </li>\n",
      "    <li> <a href=\"#DiffInt\">Differentiation und Integration</a> </li>\n",
      "    <li> <a href=\"#LA\"><FONT color=#22ff00>Lineare Algebraprobleme</FONT></a> </li>\n",
      "    <li> <a href=\"#normalDGL\">Gew\u00f6hnliche Differentialgleichungen</a> </li>\n",
      "    <li> <a href=\"#PDE\">Partielle Differentialgleichungen</a> </li>\n",
      "    <li> <a href=\"#FFT\">Schnelle Fourier Transformation (FFT)</a> </li>\n",
      "    <li> <a href=\"#MCM\">Monte Carlo Methoden</a> </li>\n",
      "</ol>"
     ]
    },
    {
     "cell_type": "markdown",
     "metadata": {},
     "source": [
      "Some additions:\n",
      "\n",
      "<ul>\n",
      "    <li> <a href=\"#PD\">Probability Distributions</a> </li>\n",
      "</ul>"
     ]
    },
    {
     "cell_type": "heading",
     "level": 1,
     "metadata": {},
     "source": [
      "<a id=\"DiffInt\">II.</a> Differentiation und Integration "
     ]
    },
    {
     "cell_type": "heading",
     "level": 3,
     "metadata": {},
     "source": [
      "Numerische Integration"
     ]
    },
    {
     "cell_type": "markdown",
     "metadata": {},
     "source": [
      "Das Interval auf dem die Funktion integriert werden soll wird in Teilintervalle zerlegt. Auf jedem der Teilintervalle wird die Funktion durch eine Taylorentwicklung angen\u00e4hert. "
     ]
    },
    {
     "cell_type": "heading",
     "level": 1,
     "metadata": {},
     "source": [
      "<a id=\"LA\">III.</a> Lineare Algebraprobleme"
     ]
    },
    {
     "cell_type": "heading",
     "level": 3,
     "metadata": {},
     "source": [
      "Lineare Gleichungssysteme"
     ]
    },
    {
     "cell_type": "markdown",
     "metadata": {},
     "source": [
      "Allgemeines Gleichungssystem der Form \n",
      "$$ \\mathbf A \\cdot \\mathbf x = \\mathbf b. $$ \n",
      "Zur L\u00f6sung des Gleichungssystems wird in Python eine LU-Dekomposition verwendet, bei der $\\mathbf A$ als Produkt einer \"lower\" ($\\mathbf L$) und einer \"upper triangular\" ($\\mathbf U$) Matrix geschrieben wird:\n",
      "$$ \\mathbf A = \\mathbf L \\cdot \\mathbf U \\quad \\Rightarrow I)\\ \\mathbf L\\cdot \\mathbf y = \\mathbf b \\quad II)\\ \\mathbf U \\cdot \\mathbf x = \\mathbf y. $$\n",
      "Die LU-Dekomposition wurde von dem Mathematiker Alan Turing eingef\u00fchrt."
     ]
    },
    {
     "cell_type": "markdown",
     "metadata": {},
     "source": [
      "<b>Example:</b> Solve the system of equations 3 * x0 + x1 = 9 and x0 + 2 * x1 = 8"
     ]
    },
    {
     "cell_type": "code",
     "collapsed": false,
     "input": [
      "import numpy as np\n",
      "import time\n",
      "\n",
      "A = np.array([[3,1],[1,2]])\n",
      "b = np.array([9,8])\n",
      "start = time.time()\n",
      "x = np.linalg.solve(A,b)\n",
      "stop = time.time()\n",
      "print x,\" (Finding the solution took \",stop-start,\" seconds.)\"\n",
      "# Check that the solution is correct:\n",
      "print \"Is the solution correct?\", (np.dot(A,x) == b).all()"
     ],
     "language": "python",
     "metadata": {},
     "outputs": [
      {
       "output_type": "stream",
       "stream": "stdout",
       "text": [
        "[ 2.  3.]  (Finding the solution took  0.000999927520752  seconds.)\n",
        "Is the solution correct? True\n"
       ]
      }
     ],
     "prompt_number": 28
    },
    {
     "cell_type": "heading",
     "level": 3,
     "metadata": {},
     "source": [
      "Eigenwertprobleme"
     ]
    },
    {
     "cell_type": "markdown",
     "metadata": {},
     "source": [
      "Eigenwertproblem \n",
      "$$ \\mathbf A \\cdot \\mathbf v = \\lambda \\mathbf v $$\n",
      "mit $N+1$ L\u00f6sungen $\\lambda_i, \\mathbf v^{(i)}$. \n",
      "Eine \u00e4quivalente Formulierung des Eigenwertproblems lautet\n",
      "$$(A-\\lambda \\mathbf 1) \\cdot \\mathbf v = 0,$$\n",
      "dies stellt ein homogenes lineares Gleichungssystem dar. Dieses ist f\u00fcr $x\\neq 0$ genau dann l\u00f6sbar, wenn gilt \n",
      "$$ \\det(A-\\lambda \\mathbf 1) = 0. $$\n",
      "Die Eigenwerte sind die Nullstellen des charakteristischen Polynoms $p(\\lambda)= \\det (\\mathbf A-\\lambda \\mathbf 1).$\n",
      "\n",
      "Ein Eigenvektor einer Abbildung ist ein vom Nullvektor verschiedener Vektor, dessen Richtung durch die Abbildung nicht ver\u00e4ndert wird. Ein Eigenvektor wird also nur gestreckt und man bezeichnet den Streckungsfaktor als Eigenwert der Abbildung.\n",
      "Der Eigenwert gibt Auskunft \u00fcber wichtige Eigenschaften linearer Abbildungen, etwa ob ein entsprechendes lineares Gleichungssystem eindeutig l\u00f6sbar ist oder nicht."
     ]
    },
    {
     "cell_type": "code",
     "collapsed": false,
     "input": [
      "from numpy import linalg as LA\n",
      "import numpy as np\n",
      "\n",
      "w, v = LA.eig(np.diag((1,2,3)))\n",
      "print \"Eigenvalues: \",w,\"\\nEigenvectors: \\n\",v"
     ],
     "language": "python",
     "metadata": {},
     "outputs": [
      {
       "output_type": "stream",
       "stream": "stdout",
       "text": [
        "Eigenvalues:  [ 1.  2.  3.] \n",
        "Eigenvectors: \n",
        "[[ 1.  0.  0.]\n",
        " [ 0.  1.  0.]\n",
        " [ 0.  0.  1.]]\n"
       ]
      }
     ],
     "prompt_number": 39
    },
    {
     "cell_type": "heading",
     "level": 1,
     "metadata": {},
     "source": [
      "<a id=\"normalDGL\">IV.</a> Gew\u00f6hnliche Differentialgleichungen"
     ]
    },
    {
     "cell_type": "heading",
     "level": 3,
     "metadata": {},
     "source": [
      "Script:"
     ]
    },
    {
     "cell_type": "markdown",
     "metadata": {},
     "source": [
      "Skript: <a href=\"http://www.itkp.uni-bonn.de/~metsch/NM1212/nm2012_4.pdf\">Gew\u00f6hnliche Differentialgleichungen I</a>\n",
      "\n",
      "DGL in <b>einer</b> Variable, i.e. \"gew\u00f6hnlich\"; Partielle DGL in Kapitel V..\n",
      "Typen: Anfangswert und Randwert (Funktionswerte sind zu verschiedenen Zeiten vorgegeben. \n",
      "\n",
      "DGLn h\u00f6herer Ordnung k\u00f6nnen als ein System aus DGLn erster Ordnung geschrieben werden und in die Form\n",
      "\n",
      "$$ \\frac{d\\mathbf y}{dt} = \\mathbf f(\\mathbf y, t) $$ \n",
      "mit Anfangswerten $\\mathbf y(0)$ gebracht werden.\n",
      "Die formale L\u00f6sung auf einem Zeitgitter lautet\n",
      "$$ y_{n+1} = y_n + \\int_{t_n}^{t_{n+1}} dt \\mathbf f(t, \\mathbf y(t)), $$\n",
      "<FONT COLOR=\"#11CD94\">jedoch ist $\\mathbf y(t)$ nicht bekannt.</FONT>"
     ]
    },
    {
     "cell_type": "heading",
     "level": 4,
     "metadata": {},
     "source": [
      "Das Euler-Cauchy Verfahren"
     ]
    },
    {
     "cell_type": "markdown",
     "metadata": {},
     "source": [
      "The components $y^\\eta$ of $\\mathbf y$ can be approximated by a Taylor expansion:\n",
      "$$ y^\\eta (t) = y^\\eta(t_n) + \\underbrace{\\dot y^\\eta(t_n) (t-t_n)}_{=f_n^\\eta\\cdot h} + \\mathcal O(h^2) $$ \n",
      "\n",
      "Example: $$ \\dot y(t) = -t y(t) \\qquad y(t_0 =0)=1$$"
     ]
    },
    {
     "cell_type": "code",
     "collapsed": false,
     "input": [
      "from pylab import *\n",
      "from numpy import *\n",
      "\n",
      "steps = 100\n",
      "h = 5/steps\n",
      "print h\n",
      "y0 = 1\n",
      "\n",
      "y_num = [0]*steps\n",
      "y_num[0] = y0\n",
      "\n",
      "for i in arange(1,steps):\n",
      "    y_num[i] = y_num[i-1]-i*h*y_num[i-1]*h\n",
      "\n",
      "t = array([h*i for i in arange(0,steps)])\n",
      "    \n",
      "figure()\n",
      "subplot(211)\n",
      "plot(t, exp(-t**2/2), color = 'red', lw = 2)\n",
      "plot(t, y_num, 'o')\n",
      "subplot(212)\n",
      "plot(t, abs(exp(-t**2/2)-y_num), 'o')\n",
      "show()"
     ],
     "language": "python",
     "metadata": {},
     "outputs": [
      {
       "output_type": "stream",
       "stream": "stdout",
       "text": [
        "0.05\n"
       ]
      }
     ],
     "prompt_number": 3
    },
    {
     "cell_type": "heading",
     "level": 4,
     "metadata": {},
     "source": [
      "Runge-Kutta / modifiziertes Euler Verfahren"
     ]
    },
    {
     "cell_type": "code",
     "collapsed": false,
     "input": [
      "def f(t,y):\n",
      "    return -t*y\n",
      "\n",
      "y = [0]*steps\n",
      "y[0] = y0\n",
      "\n",
      "for i in arange(1,steps):\n",
      "    yn = y[i-1]\n",
      "    tn = h*i\n",
      "    k1 = h*f(tn, yn)\n",
      "    k2 = h*f(tn+h/2, yn+k1/2)\n",
      "    k3 = h*f(tn+h/2, yn+k2/2)\n",
      "    k4 = h*f(tn+h, yn+k3)\n",
      "    y[i] = yn+1/6*(k1+2*k2+2*k3+k4)\n",
      "    \n",
      "figure()\n",
      "subplot(211)\n",
      "plot(t, exp(-t**2/2), color = 'red', lw = 2)\n",
      "plot(t, y_num, 'o')\n",
      "plot(t, y, 'o')\n",
      "subplot(212)\n",
      "plot(t, abs(exp(-t**2/2)-y_num), 'o', label = 'Euler-Cauchy')\n",
      "plot(t, abs(exp(-t**2/2)-y), 'o', label = 'Runge-Kutta')\n",
      "legend()\n",
      "show()"
     ],
     "language": "python",
     "metadata": {},
     "outputs": [],
     "prompt_number": 22
    },
    {
     "cell_type": "heading",
     "level": 3,
     "metadata": {},
     "source": [
      "Examples with Python:"
     ]
    },
    {
     "cell_type": "markdown",
     "metadata": {},
     "source": [
      "The scipy library for Python contains numerous functions for scientific computing and\n",
      "data analysis. It includes the function odeint for numerically solving sets of first-order,\n",
      "ordinary differential equations (ODEs) using a sophisticated algorithm. Any set of\n",
      "differential equations can be written in the required form.\n",
      "\n",
      "Example:\n",
      "The second order differential equation\n",
      "$$ \\frac{d^2y}{dt^2} = ay + b \\frac{dy}{dt} $$\n",
      "can be rewritten as two first order differential equations\n",
      "$$ \\frac{dy}{dt}=y^\\prime \\textrm{ and } \\frac{dy^\\prime}{dt} = ay + by^\\prime.$$\n"
     ]
    },
    {
     "cell_type": "markdown",
     "metadata": {},
     "source": [
      "or \n",
      "$$ \\frac{dy[0]}{dt} = y[1] \\textrm{ and } \\frac{dy[2]}{dt} = ay[0] +by[1]. $$\n",
      "The odeint function requires a function (called deriv in the example below) that will\n",
      "return the first derivative of each of element in the $y$-array and their initial values.\n",
      "\n",
      "In general, odeint solves \n",
      "$$ \\frac{d\\mathbf y}{dt} = \\mathbf f(\\mathbf y, t) $$ \n",
      "given initial conditions $\\mathbf y(0)$."
     ]
    },
    {
     "cell_type": "code",
     "collapsed": false,
     "input": [
      "from scipy.integrate import odeint\n",
      "from pylab import * # for plotting commands\n",
      "def deriv(y,t): # return derivatives of the array y\n",
      "    a = -2.0\n",
      "    b = -0.1\n",
      "    return array([ y[1], a*y[0]+b*y[1] ])\n",
      "time = linspace(0.0,10.0,1000)\n",
      "yinit = array([0.0005,0.2]) # initial values\n",
      "y = odeint(deriv,yinit,time)\n",
      "figure()\n",
      "plot(time,y[:,0]) # y[:,0] is the first column of y\n",
      "xlabel('t')\n",
      "ylabel('y')\n",
      "show()"
     ],
     "language": "python",
     "metadata": {},
     "outputs": [],
     "prompt_number": 4
    },
    {
     "cell_type": "heading",
     "level": 5,
     "metadata": {},
     "source": [
      "Zombie attack!"
     ]
    },
    {
     "cell_type": "markdown",
     "metadata": {},
     "source": [
      "Set of differential equations obtained <a href=\"http://mysite.science.uottawa.ca/rsmith43/Zombies.pdf\">here</a> and calculated in the python cookbook <a href=\"http://www.scipy.org/Cookbook/Zombie_Apocalypse_ODEINT\">here</a>. \n",
      "\n",
      "<ul>\n",
      "    <li> Susceptible ($S$) </li>\n",
      "    <li> Zombie ($Z$) </li>\n",
      "    <li> Removed ($R$, individuals who have died) </li>\n",
      "</ul>\n",
      "\n",
      "Parameters:\n",
      "<ul>\n",
      "    <li> $\\delta$: $S$ - non-zombie-related death </li>\n",
      "    <li> $\\zeta$: humans $\\in\\ R$ can resurrect and become a zombie </li>\n",
      "    <li> $\\beta$: humans $\\in\\ S$ can encounter a zombie and be infected </li>\n",
      "    <li> $\\alpha$: defeated zombie (this zombies go to the $R$ class) </li>\n",
      "    <li> $\\Pi$: constant $S$ birth rate </li>\n",
      "</ul>\n",
      "\n",
      "Differential equations:\n",
      "$$ \\frac{dS}{dt} = \\Pi - \\beta S Z - \\delta S $$\n",
      "$$ \\frac{dZ}{dt} = \\beta S Z + \\zeta R - \\alpha S Z $$\n",
      "$$ \\frac{dR}{dt} = \\delta S + \\alpha S Z - \\zeta R $$"
     ]
    },
    {
     "cell_type": "code",
     "collapsed": false,
     "input": [
      "from scipy.integrate import odeint\n",
      "from pylab import *\n",
      "\n",
      "# Parameters\n",
      "delta = 0.0001\n",
      "zeta = 0.0001\n",
      "beta = 0.0095\n",
      "alpha = 0.0001\n",
      "Pi = 0.0\n",
      "\n",
      "# assuming that y = (S,Z,R)\n",
      "def deriv(y,t):\n",
      "    S, Z, R = y\n",
      "    dS = Pi-beta*S*Z-delta*S\n",
      "    dZ = beta*S*Z+zeta*R-alpha*S*Z\n",
      "    dR = delta*S+alpha*S*Z-zeta*R\n",
      "    return [dS, dZ, dR]\n",
      "    \n",
      "y0 = [500,0,0]\n",
      "t = linspace(0,10,100)\n",
      "y = odeint(deriv,y0,t)\n",
      "plot(t,y[:,0],label='humans')\n",
      "plot(t,y[:,1],label='zombies')\n",
      "plot(t,y[:,2],label='removed')\n",
      "legend()\n",
      "show()"
     ],
     "language": "python",
     "metadata": {},
     "outputs": [],
     "prompt_number": 23
    },
    {
     "cell_type": "heading",
     "level": 5,
     "metadata": {},
     "source": [
      "Bacterias population example"
     ]
    },
    {
     "cell_type": "markdown",
     "metadata": {},
     "source": [
      "The problem is described <a href=\"http://lister.dulci.duhs.duke.edu/~cliburn/summer-school/python/_build/html/ode_models.html\">here</a>. The differential equations to be solved are \n",
      "$$ \\frac{dn}{dt} = k\\cdot c\\cdot n \\qquad \\frac{dc}{dt} = - \\alpha \\cdot k \\cdot c \\cdot n $$\n",
      "which are already two first order differential equations. "
     ]
    },
    {
     "cell_type": "code",
     "collapsed": false,
     "input": [
      "# y is the vector n(t), c(t)\n",
      "from scipy.integrate import odeint\n",
      "from pylab import * # for plotting commands\n",
      "\n",
      "def deriv(y,t): # return derivatives of the array y\n",
      "    alpha = 1.0\n",
      "    k = 0.005\n",
      "    return array([ k*y[1]*y[0], -alpha*k*y[1]*y[0]])\n",
      "\n",
      "time = range(0,480,5)\n",
      "yinit = array([0.1,10.0]) # initial values\n",
      "y = odeint(deriv,yinit,time)\n",
      "figure()\n",
      "plot(time,y[:,0]) # y[:,0] is the first column of y\n",
      "plot(time,y[:,1]) \n",
      "xlabel('t')\n",
      "ylabel('y')\n",
      "show()"
     ],
     "language": "python",
     "metadata": {},
     "outputs": [
      {
       "output_type": "stream",
       "stream": "stderr",
       "text": [
        "C:\\Python27\\lib\\site-packages\\matplotlib\\axes.py:4442: UserWarning: No labeled objects found. Use label='...' kwarg on individual plots.\n",
        "  warnings.warn(\"No labeled objects found. \"\n"
       ]
      }
     ],
     "prompt_number": 14
    },
    {
     "cell_type": "heading",
     "level": 1,
     "metadata": {},
     "source": [
      "<a id=\"FFT\">VI.</a> Schnelle Fourier Transformation "
     ]
    },
    {
     "cell_type": "markdown",
     "metadata": {},
     "source": [
      "Die Fourier Transformation ist gegeben durch\n",
      "$$ \\mathcal F[f(t)] = \\int_{-\\infty}^\\infty dt\\ f(t) e^{2\\pi i \\nu t}.$$\n",
      "\n",
      "Bei der diskreten Fourier Transformation sind die Funktionswerte $f(t)$ nur an diskreten Punkten in einem Intervall $[a,b]$ gegeben:\n",
      "$$ t_k = a + k\\Delta \\quad k = 0,1,\\dots, N-1 \\quad \\Delta = \\frac{b-a}{N} $$"
     ]
    },
    {
     "cell_type": "code",
     "collapsed": false,
     "input": [
      "import numpy as np\n",
      "import time\n",
      "\n",
      "# Gives Spectrum of Data\n",
      "def frequency_analysis(time, signal):\n",
      "    spectrum = np.fft.fft(signal)#*np.hanning(len(signal)))\n",
      "    dt = abs(time[-1] - time[0])/len(time)\n",
      "    frate = 1/dt\n",
      "    freq = np.fft.fftfreq(len(signal))\n",
      "    freq_in_hertz=abs(freq*frate) # from http://stackoverflow.com/questions/3694918/how-to-extract-frequency-associated-with-fft-values-in-python\n",
      "    \"\"\" Check if the frequencies are in agreement with Nyquist sampling theorem:\n",
      "    f_min_exp = 1/2*1/(time[-1]-time[0])\n",
      "    f_max_exp = 1/2*1/dt\n",
      "    print f_min_exp, f_max_exp, min(freq_in_hertz), max(freq_in_hertz)\"\"\"\n",
      "    # Remove small high frequency part\n",
      "    tol = 0.05*abs(spectrum).max()\n",
      "    for i in xrange(len(spectrum)-1, 0, -1):\n",
      "        if abs(spectrum[i]) > tol:\n",
      "            break\n",
      "    return freq_in_hertz[:i+1], spectrum[:i+1] \n",
      "\n",
      "# Try out FFT with 5 Hz signal\n",
      "t = linspace(-10, 100,10000)\n",
      "signal = sin(2*pi*5*t)\n",
      "t0 = time.time()\n",
      "freq, spectrum = frequency_analysis(t, signal)\n",
      "t1 = time.time()\n",
      "print t1-t0\n",
      "figure()\n",
      "subplot(211)\n",
      "plot(t,signal)\n",
      "xlim(-2,2)\n",
      "subplot(212)\n",
      "xlim(0,20)\n",
      "axvline(5, lw =5, color ='R')\n",
      "plot(freq, abs(spectrum))\n",
      "show()\n"
     ],
     "language": "python",
     "metadata": {},
     "outputs": [
      {
       "output_type": "stream",
       "stream": "stdout",
       "text": [
        "0.00300002098083\n"
       ]
      }
     ],
     "prompt_number": 84
    },
    {
     "cell_type": "heading",
     "level": 1,
     "metadata": {},
     "source": [
      "<a id=\"MCM\">VII</a>. Monte-Carlo Methoden"
     ]
    },
    {
     "cell_type": "markdown",
     "metadata": {},
     "source": [
      "Ein Ma\u00df f\u00fcr die Rechenleistung eines Computers ist das \n",
      "\"FLOP = Floating Point Operations Per Second\". Supercomputer erreichen etwa 50 TeraFLOPs (z.B. J\u00fclich Blue Gene/L)."
     ]
    },
    {
     "cell_type": "markdown",
     "metadata": {},
     "source": [
      "Betrachte ein A-Teilchensystem beschrieben durch eine Wellenfunktion\n",
      "$$ \\psi(\\vec x_1, \\vec x_2, \\dots, \\vec x_A) .$$\n",
      "Der Erwartungswert eines Operators $\\hat O(\\vec x_1,\\vec x_2 , \\dots ,\\vec x_A)$ is dann gegeben durch\n",
      "$$\\langle \\hat O \\rangle_\\psi = \\int d^3 x_1 \\int d^3x_2 \\dots \\int d^3 x_A \\overline{\\psi(\\vec x_1, \\vec x_2, \\dots, \\vec x_A)} \\hat O(\\vec x_1, \\vec x_2, \\dots, \\vec x_A) \\psi(\\vec x_1, \\vec x_2, \\dots, \\vec x_A)$$ ,\n",
      "was eine 3$A$-dimensionale Integration ben\u00f6tigt. Selbst bei einer groben\n",
      "Diskretisierung von nur 15 Gitterpunkte pro Integrationsvariable sind das $15^{3A}$\n",
      "Gitterpunkte und braucht man fuer $A =$ 9 in etwa 1031 Operationen. Mit einer\n",
      "Rechengeschwindigkeit von 1-GigaFlops, d.h. 10$^9$ Flie\u00dfkomma-Operationen\n",
      "pro Sekunde dauert dies $10^{22}$ Sekunden, das sind in etwa $10^{15}$ Jahre oder das\n",
      "100000-fache des Alters des Universums!\n",
      "\n",
      "Die Idee der MONTE-CARLO-Integration ist es, numerisch eine Sch\u00e4tzung fuer\n",
      "den Wert des Integrals mit wesentlich weniger Operationen zu ermitteln.\n",
      "Wir betrachten zun\u00e4chst die Integration einer Funktion von einer Variable und\n",
      "beobachten, da\u00df\n",
      "$$ \\frac{1}{b-a} \\int_a^b dx f(x) = \\overline f $$\n",
      "in etwa einen Mittelwert von $f$ \u00fcber das Intervall darstellt, den wir vielleicht\n",
      "auch f\u00fcr hinreichend gro\u00dfe $N$ mittels\n",
      "$$ \\overline f = \\frac{1}{N} \\sum_{i=1}^N f(x_i)$$\n",
      "mit zuf\u00e4llig gew\u00e4hlten $x_i$ , $i = 1, \\dots ,N$ absch\u00e4tzen k\u00f6nnen."
     ]
    },
    {
     "cell_type": "heading",
     "level": 3,
     "metadata": {},
     "source": [
      "$\\pi$-estimation with Monte-Carlo method"
     ]
    },
    {
     "cell_type": "markdown",
     "metadata": {},
     "source": [
      "If a point $(x,y)$ lies within the circle of radius 1, then $1 \\geq x^2+y^2$."
     ]
    },
    {
     "cell_type": "code",
     "collapsed": false,
     "input": [
      "from random import random\n",
      "\n",
      "samples = 1000\n",
      "\n",
      "x = [random() for i in arange(0,samples)]\n",
      "y = [random() for i in arange(0,samples)]\n",
      "\n",
      "in_circle = 0\n",
      "for i in arange(0,samples):\n",
      "    if (1>sqrt(x[i]**2+y[i]**2)):\n",
      "        plot(x[i],y[i], 'o', color='red')\n",
      "        in_circle += 1\n",
      "    else:\n",
      "        plot(x[i],y[i], 'o', color='blue')\n",
      "        \n",
      "show()\n",
      "\n",
      "print 4*in_circle/samples"
     ],
     "language": "python",
     "metadata": {},
     "outputs": [
      {
       "output_type": "stream",
       "stream": "stdout",
       "text": [
        "3.124\n"
       ]
      }
     ],
     "prompt_number": 3
    },
    {
     "cell_type": "heading",
     "level": 3,
     "metadata": {},
     "source": [
      "Monte-Carlo Integrationsmethode"
     ]
    },
    {
     "cell_type": "markdown",
     "metadata": {},
     "source": [
      "$$\\int_a^b f(x) dx = (b-a)\\langle f(x) \\rangle \\quad \\langle f(x) \\rangle = \\frac{1}{N} \\sum_{i=1}^N f(x_i) \\quad \\sigma^2 = \\frac{1}{N} \\left[ \\langle f^2 \\rangle - \\langle f\\rangle^2\\right]$$ \n",
      "Let $x_1, \\dots x_n$ be uniformly distributed random numbers between $a$ and $b$, then\n",
      "$$ \\int_a^b f(x) dx \\approx \\frac{b-a}{n} \\sum_{i=1}^n f(x_i)$$. \n",
      "Try to approximate the integral \n",
      "$$\\int_0^\\pi \\sin(x) dx = -\\cos(x)\\mid_0^\\pi = -(-1-1) = 2 $$"
     ]
    },
    {
     "cell_type": "code",
     "collapsed": false,
     "input": [
      "from pylab import *\n",
      "from numpy import *\n",
      "from random import random\n",
      "\n",
      "a = 0 \n",
      "b = pi\n",
      "def random_points(n):\n",
      "    # randomly distribute n points in the interval a ... b:\n",
      "    random_01 = array([random() for i in arange(0,n)])\n",
      "    stretch, offset = (b-a), a \n",
      "    random_ab = random_01*stretch + offset\n",
      "    return random_ab\n",
      "\n",
      "def MCintegral(func, n):\n",
      "    xvalues = random_points(n)\n",
      "    return (b-a)/(len(xvalues))*sum([func(x) for x in xvalues])\n",
      "\n",
      "function = lambda x: sin(x)\n",
      "    \n",
      "n = 100\n",
      "print MCintegral(function, n)\n",
      "\n",
      "# How does the error behave with the number of points n?\n",
      "ns = linspace(10, 1000, 30)\n",
      "derivation = []\n",
      "for nval in ns:\n",
      "    found = MCintegral(function, nval)\n",
      "    derivation.append(abs(2-found))\n",
      "    \n",
      "plot(ns, derivation, 'o')\n",
      "show()"
     ],
     "language": "python",
     "metadata": {},
     "outputs": [
      {
       "output_type": "stream",
       "stream": "stdout",
       "text": [
        "1.97670983601\n"
       ]
      }
     ],
     "prompt_number": 63
    },
    {
     "cell_type": "markdown",
     "metadata": {},
     "source": [
      "Berechnung des Integrals\n",
      "$$\\int_{-\\infty}^\\infty dx\\ e^{-x^2} = \\sqrt{\\pi} $$ \n",
      "mit der Gewichtungsfunktion\n",
      "$$ w(x) = \\begin{cases} 0 & |x| > a, \\\\ \\frac{3}{4a^2} (a^2 - x^2) & |x|\\leq a \\end{cases} \\qquad \\int_{-\\infty}^\\infty dx\\ w(x) = 1 $$"
     ]
    },
    {
     "cell_type": "heading",
     "level": 3,
     "metadata": {},
     "source": [
      "Lattice Monte Carlo - Ising Spins"
     ]
    },
    {
     "cell_type": "markdown",
     "metadata": {},
     "source": [
      "In the Ising model one deals with a lattice, which is populated by spins that can point in two directions $S_i \\in \\lbrace +1, -1\\rbrace$. Each of the spins only interacts with its nearest neighbour. Additionally a magnetic field is applied. The Hamilton function of a configuration $S$ reads\n",
      "$$ H(S) = - \\sum_{\\langle i\\ j\\rangle} J_{ij} S_i S_j - \\sum_j B_j S_j. $$\n",
      "The minus signs in the Hamilton function are set by convention. Generally, in a ferromagnetic Ising model, neighbouring spins have the tendency to be aligned ($J_{ij} >0$). \n",
      "\n",
      "The probability $P_i$ for a canonical subsystem in a heat bath to be in a state with energy $E_i$ is the number of states of the heat bath $B$, $\\Omega_B$ with energy $E-E_i$:\n",
      "$$ P_i = \\frac{\\Omega_B(E-E_i)}{\\sum_j \\Omega_B(E-E_j)}.$$\n",
      "\n",
      "Since the energy of system $A$ is small compared to the overall energy of the sytem, i.e. $E_i << E$, one can Taylor expand:\n",
      "$$ \\ln(\\Omega_B(E-E_i)) \\approx \\ln(\\Omega_B(E)) -E_i \\left( \\frac{\\partial \\ln (\\Omega_B(E))}{\\partial E} \\right) = \\ln( \\omega_B(E) / e^{E_i/(k_B T)})$$ \n",
      "where the definition of temperature $\\frac{1}{k_B T} = \\frac{\\partial \\ln \\Omega}{\\partial E}$ has been used.\n",
      "\n",
      "With this the probability $P_i$ can be written in the form of a Boltzmann distribution:\n",
      "$$ P_i \\approx \\frac{e^{-E_i/(k_B T)}}{\\sum_j e^{-E_j/(k_B T)}}.$$\n",
      "\n",
      "For a two-dimensional lattice with 100 grid points, there are $2^{100^2} \\approx 10^{1000}$ possible configurations, therefore a sum over all possible configurations is not very practical.\n"
     ]
    },
    {
     "cell_type": "code",
     "collapsed": false,
     "input": [
      "#from pylab import *\n",
      "import math, pylab, random\n",
      "#import random\n",
      "\n",
      "J = 1.0  # exchange energy\n",
      "L = 100#input('number of atoms per side of lattice -> ')\n",
      "nsweep = 4#input('number sweeps to average -> ')\n",
      "seed = 0.5#input('random number seed -> ')\n",
      "random.seed(seed)\n",
      "N = L**2\n",
      "kT = pylab.arange(0.1, 5.0, 0.1)\n",
      "e = pylab.zeros(len(kT))\n",
      "m = pylab.zeros(len(kT))\n",
      "c = pylab.zeros(len(kT))\n",
      "\n",
      "# initial data\n",
      "s = pylab.ones((L, L))\n",
      "E = 0.0\n",
      "M = 0.0\n",
      "for i in range(L):\n",
      "    for j in range(L):\n",
      "        E -= J*s[i,j]*(s[(i+1)%L,j]+s[i,(j+1)%L])\n",
      "        M += s[i,j]\n",
      "\n",
      "# prepare animated plot\n",
      "pylab.ion()\n",
      "image = pylab.imshow(s, vmax=1, vmin=-1)\n",
      "\n",
      "# slowly warm up\n",
      "for t in range(len(kT)):\n",
      "    # average nsweep sweeps\n",
      "    for sweep in range(nsweep):\n",
      "        \n",
      "        # update animated plot\n",
      "        image.set_data(s)\n",
      "        pylab.title('kT = %g'%kT[t])\n",
      "        pylab.draw()\n",
      "\n",
      "        # sweep over all particles in lattice\n",
      "        for i in range(L):\n",
      "            for j in range(L):\n",
      "\n",
      "                # compute energy required to flip spin\n",
      "\t\tdE = s[(i+1)%L,j]+s[(i-1)%L,j]+s[i,(j+1)%L]+s[i,(j-1)%L]\n",
      "                dE *= 2.0*J*s[i,j]\n",
      "\n",
      "                # Metropolis algorithm to see if we should accept trial\n",
      "                if dE <= 0.0 or random.random() <= math.exp(-dE/kT[t]):\n",
      "                    # accept trial: reverse spin; return dE and dM\n",
      "                    s[i,j] *= -1\n",
      "                    M += 2.0*s[i,j]\n",
      "                    E += dE\n",
      "\n",
      "        # update running means and variances\n",
      "        deltae = E-e[t]\n",
      "        deltam = M-m[t]\n",
      "        e[t] += deltae/(sweep+1)\n",
      "        m[t] += deltam/(sweep+1)\n",
      "        c[t] += deltae*(E-e[t])\n",
      "    e[t] /= N\n",
      "    m[t] /= N\n",
      "    c[t] /= nsweep*N*kT[t]**2\n",
      "\n",
      "# produce plots\n",
      "pylab.ioff()\n",
      "\n",
      "\"\"\"\n",
      "figure()\n",
      "plot(kT, e, 'o')\n",
      "xlabel('temperature')\n",
      "ylabel('energy per atom')\n",
      "grid()\n",
      "\n",
      "figure()\n",
      "plot(kT, m, 'o')\n",
      "xlabel('temperature')\n",
      "ylabel('magnetization per atom')\n",
      "grid()\n",
      "\n",
      "figure()\n",
      "plot(kT, c, 'o')\n",
      "xlabel('temperature')\n",
      "ylabel('heat capacity per atom')\n",
      "grid()\n",
      "show()\n",
      "\"\"\"\n"
     ],
     "language": "python",
     "metadata": {},
     "outputs": [],
     "prompt_number": "*"
    },
    {
     "cell_type": "heading",
     "level": 1,
     "metadata": {},
     "source": [
      "<a id=\"PD\">Probability Distributions</a>"
     ]
    },
    {
     "cell_type": "markdown",
     "metadata": {},
     "source": [
      "$$\\mu = \\int dx\\ x P_x(x) \\qquad \\sigma^2 = \\int dx\\ (x-\\mu)^2P_x(x)$$"
     ]
    },
    {
     "cell_type": "heading",
     "level": 3,
     "metadata": {},
     "source": [
      "Binomial "
     ]
    },
    {
     "cell_type": "markdown",
     "metadata": {},
     "source": [
      "For each picked element only two cases are possible: 1) It is a failure or 2) it is a success. When success happens with probability $p$ and one has $n$ tries, how large is the probability to have $k$ successes $S$ in a row and afterwards $n-k$ failures $F$? It is \n",
      "$$ P(\\underbrace{S\\dots S}_{k} F\\dots F ) = p^k \\cdot (1-p)^{n-k}. $$\n",
      "\n",
      "When one doesn't mind that the successes don't happen in a row, but just that of the $n$ tries, $k$ will end successfully (in any order with the failures $F$, e.g. $SSFS\\dots FF$), a \"$n$ choose $k$\" ($n \\choose k$) factor is included. Then the probability for $k$ successes in any order in overall $n$ tries is \n",
      "$$ P(n, k) = \\binom{n}{k} p^k \\cdot (1-p)^{n-k}. $$"
     ]
    },
    {
     "cell_type": "code",
     "collapsed": false,
     "input": [
      "import numpy as np\n",
      "from pylab import *\n",
      "\n",
      "n, p = 10, .5\n",
      "s = np.random.binomial(n, p, 1000)\n",
      "hist(s, bins=n+1, normed=True, color='R')\n",
      "\n",
      "show()"
     ],
     "language": "python",
     "metadata": {},
     "outputs": [],
     "prompt_number": 71
    },
    {
     "cell_type": "heading",
     "level": 3,
     "metadata": {},
     "source": [
      "Normal"
     ]
    },
    {
     "cell_type": "markdown",
     "metadata": {},
     "source": [
      "Probability density for the Gaussian/ Normal distribution is\n",
      "$$ p(x) = \\frac{1}{\\sqrt{2\\pi\\sigma^2}}e^{- \\frac{(x-\\mu)^2}{2\\sigma^2}}$$"
     ]
    },
    {
     "cell_type": "code",
     "collapsed": false,
     "input": [
      "import numpy as np\n",
      "from pylab import *\n",
      "\n",
      "mu, sigma = 0, 0.1\n",
      "samples = 1000\n",
      "\n",
      "x = linspace(-5*sigma,5*sigma,100)\n",
      "plot(x, 1/sqrt(2*pi*sigma**2)*np.exp(-(x-mu)**2/(2*sigma**2)), lw = 2)\n",
      "\n",
      "s = [np.random.normal(mu,sigma) for i in arange(0,samples)]\n",
      "hist(s, bins=50, normed=True, color='R')\n",
      "\n",
      "show()"
     ],
     "language": "python",
     "metadata": {},
     "outputs": [],
     "prompt_number": 2
    },
    {
     "cell_type": "markdown",
     "metadata": {},
     "source": [
      "The <b>Central Limit Theorem</b> :\n",
      "\n",
      "Sei jetzt $\\lbrace Xi\\rbrace$ eine Folge von unabh\u00e4ngigen Zufallsvariablen, die aber alle identisch\n",
      "verteilt, d.h mit den gleichen Erwartungswert $\\mu$ und Varianz $\\sigma^2 < \\infty$ sind.\n",
      "Der Zentrale Grenzwertsatz besagt jetzt, da\u00df die Mittelwerte\n",
      "$$ S_N = \\frac{1}{N}\\sum_{i=1}^N X_i $$\n",
      "f\u00fcr gro\u00dfe $N$ \u201cnormalverteilt\u201d sind, d.h. die Wahrscheinlichkeitsverteilung f\u00fcr\n",
      "$S_N$ entspricht einer GAUSS-Funktion:\n",
      "$$ P_{S_N}(s) \\approx \\sqrt{\\frac{N}{2\\pi\\sigma^2}} \\exp\\left( - \\frac{N}{2\\sigma^2} (s-\\mu)^2 \\right)$$\n",
      "f\u00fcr gro\u00dfe $N$.\n",
      "\n",
      "Aufgrund des zentralen Grenzwertsatzes ist $S_N$ eine Zufallsvariable, f\u00fcr die mit hinreichend gro\u00dfem $N$ gilt:\n",
      "$$\\mu_{S_N} \\rightarrow \\mu_X \\qquad \\sigma_{S_N} \\rightarrow \\frac{\\sigma_X}{\\sqrt{N}}.$$"
     ]
    },
    {
     "cell_type": "code",
     "collapsed": false,
     "input": [
      "import numpy as np\n",
      "from pylab import *\n",
      "\n",
      "mu, sigma = 0, 0.1\n",
      "samples = 5000\n",
      "\n",
      "# --> the used random values are uniformely distributed (and NOT Gauss distributed e.g.)\n",
      "white_noise = [random() for i in arange(0, samples)]\n",
      "hist(white_noise, bins = 50, normed = True)\n",
      "show()"
     ],
     "language": "python",
     "metadata": {},
     "outputs": [],
     "prompt_number": 11
    },
    {
     "cell_type": "code",
     "collapsed": false,
     "input": [
      "N = 70 \n",
      "SN = lambda n: 1/n*sum([random() for i in arange(0,n)])\n",
      "sample = [SN(N) for i in arange(0,1000)]\n",
      "hist(sample, normed=True,bins = 30)\n",
      "sigma =(np.std(white_noise))#0.25\n",
      "mu = np.average(white_noise)\n",
      "\n",
      "x = linspace(0,1,1000)\n",
      "plot(x, sqrt(N/(2*pi*sigma**2))*exp(-N/(2*sigma**2)*(x-mu)**2), color ='R', lw = 2)\n",
      "show()\n",
      "    "
     ],
     "language": "python",
     "metadata": {},
     "outputs": [],
     "prompt_number": 25
    },
    {
     "cell_type": "markdown",
     "metadata": {},
     "source": [
      "In classical physics, the entropy of a physical system is proportional to the quantity of energy no longer available to do physical work. Entropy is central to the second law of thermodynamics, which states that in an isolated system any activity increases the entropy. \n",
      "\n",
      "In quantum mechanics, von Neumann entropy extends the notion of entropy to quantum systems by means of the density matrix. "
     ]
    },
    {
     "cell_type": "heading",
     "level": 3,
     "metadata": {},
     "source": [
      "<a id=\"PDE\">Partial Differential Equations with FiPy</a>"
     ]
    },
    {
     "cell_type": "code",
     "collapsed": false,
     "input": [
      "from fipy import *"
     ],
     "language": "python",
     "metadata": {},
     "outputs": [],
     "prompt_number": 1
    },
    {
     "cell_type": "markdown",
     "metadata": {},
     "source": [
      "http://matforge.org/fipy/wiki/FiPyWorkbook\n",
      "\n",
      "http://www.ctcms.nist.gov/fipy/examples/diffusion/generated/examples.diffusion.coupled.html\n",
      "\n",
      "Diffusion equation in semiconductors http://www.iue.tuwien.ac.at/phd/cervenka/node18.html\n",
      "\n"
     ]
    },
    {
     "cell_type": "code",
     "collapsed": false,
     "input": [],
     "language": "python",
     "metadata": {},
     "outputs": []
    }
   ],
   "metadata": {}
  }
 ]
}