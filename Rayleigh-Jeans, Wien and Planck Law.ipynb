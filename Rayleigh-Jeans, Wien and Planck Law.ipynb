{
 "metadata": {
  "name": "Rayleigh-Jeans, Wien and Planck Law"
 },
 "nbformat": 3,
 "nbformat_minor": 0,
 "worksheets": [
  {
   "cells": [
    {
     "cell_type": "heading",
     "level": 1,
     "metadata": {},
     "source": [
      "Rayleigh-Jeans, Wien and Planck Law"
     ]
    },
    {
     "cell_type": "markdown",
     "metadata": {},
     "source": [
      "<a href=\"http://en.wikipedia.org/wiki/Black-body_radiation\">Planck's law</a> (in terms of <a href=\"http://physics.stackexchange.com/questions/13611/plancks-law-in-terms-of-wavelength\">wavelength</a>)\n",
      "$$ I(\\nu, T) = \\frac{2h\\nu^3}{c^2} \\frac{1}{e^{\\frac{h\\nu}{kT}} - 1} \\qquad I(\\lambda, T) d\\lambda = \\frac{2hc^2}{\\lambda^5} \\frac{1}{e^{\\frac{hc}{\\lambda kT}} - 1} d\\lambda$$\n",
      "<a href=\"http://en.wikipedia.org/wiki/Wien%27s_radiation_law\">Wien's law</a>\n",
      "$$ I(\\nu, T) = \\frac{2h\\nu^3}{c^2}e^{-\\frac{h\\nu}{kT}} $$\n",
      "<a href=\"http://en.wikipedia.org/wiki/Rayleigh%E2%80%93Jeans_law\">Rayleigh-Jeans law</a>\n",
      "$$ I(\\nu, T) = \\frac{2\\nu^2 kT}{c^2}$$"
     ]
    },
    {
     "cell_type": "code",
     "collapsed": false,
     "input": [
      "from scipy.constants import h, c, k\n",
      "from pylab import *\n",
      "import panna as p\n",
      "from numpy import *"
     ],
     "language": "python",
     "metadata": {},
     "outputs": [],
     "prompt_number": 1
    },
    {
     "cell_type": "code",
     "collapsed": false,
     "input": [
      "# Planck's law\n",
      "P = lambda nu, T: 2*h*nu**3/c**2 * 1/(exp(h*nu/(k*T))-1)\n",
      "Pl = lambda l, T: 2*h*c**2/l**5 * 1/(exp(h*c/(l*k*T))-1)\n",
      "# Wien's law \n",
      "W = lambda nu, T: 2*h*nu**3/c**2 * exp(-h*nu/(k*T))\n",
      "# Rayleight - Jeans law\n",
      "R = lambda nu, T: 2*nu**2*k*T/c**2"
     ],
     "language": "python",
     "metadata": {},
     "outputs": [],
     "prompt_number": 2
    },
    {
     "cell_type": "heading",
     "level": 3,
     "metadata": {},
     "source": [
      "Comparison of the radiation laws"
     ]
    },
    {
     "cell_type": "code",
     "collapsed": false,
     "input": [
      "nu = linspace(1e10, 1e15, 1e3)\n",
      "T = 5778\n",
      "\n",
      "figure()\n",
      "\n",
      "steps = 50\n",
      "visible = linspace(390e-9,750e-9,steps)\n",
      "colormap = plt.cm.gist_rainbow\n",
      "colors = [colormap(i) for i in np.linspace(0.0, 1.0, steps)]\n",
      "#plt.gca().set_color_cycle([colormap(i) for i in np.linspace(0.0, 1.0, steps)])\n",
      "j = 0\n",
      "for val in visible:\n",
      "    axvline(c/val, lw = 3, color = colors[-j], alpha = 0.75)\n",
      "    j += 1\n",
      "    \n",
      "p.grey_title(\"Comparison of Radiation Laws\")\n",
      "p.colorcycle(3)\n",
      "plot(nu, P(nu,T), label = 'Planck\\'s law')\n",
      "plot(nu, W(nu,T), label = 'Wien\\'s law')\n",
      "plot(nu, R(nu,T), label = 'Rayleigh Jean\\'s law')\n",
      "ylim(min(P(nu,T)),max(P(nu,T)))\n",
      "legend()\n",
      "xlabel(\"Frequency [Hz]\")\n",
      "ylabel(r\"$I(\\nu, T)$ for T = 5778 K\")\n",
      "\n",
      "show()"
     ],
     "language": "python",
     "metadata": {},
     "outputs": [],
     "prompt_number": 4
    },
    {
     "cell_type": "code",
     "collapsed": false,
     "input": [
      "l = linspace(10e-9, 1500e-9, 1e3)\n",
      "figure()\n",
      "\n",
      "steps = 50\n",
      "visible = linspace(390e-9,750e-9,steps)\n",
      "colormap = plt.cm.gist_rainbow\n",
      "colors = [colormap(i) for i in np.linspace(0.0, 1.0, steps)]\n",
      "#plt.gca().set_color_cycle([colormap(i) for i in np.linspace(0.0, 1.0, steps)])\n",
      "j = 0\n",
      "for val in visible:\n",
      "    axvline(val, lw = 3, color = colors[-j], alpha = 0.75)\n",
      "    j += 1\n",
      "    \n",
      "p.grey_title(\"Comparison of Radiation Laws\")\n",
      "p.colorcycle(3)\n",
      "plot(l, Pl(l,T), label = 'Planck\\'s law')\n",
      "ylim(min(Pl(l,T)),max(Pl(l,T)))\n",
      "legend()\n",
      "xlabel(\"Frequency [Hz]\")\n",
      "ylabel(r\"$I(\\nu, T)$ for T = 5778 K\")\n",
      "\n",
      "show()"
     ],
     "language": "python",
     "metadata": {},
     "outputs": [],
     "prompt_number": 7
    },
    {
     "cell_type": "markdown",
     "metadata": {},
     "source": [
      "From <a href=\"http://en.wikipedia.org/wiki/Wien%27s_displacement_law\">Wien's displacement law</a> follows for T = 5778 K a peak intensity at a wavelength $\\lambda_{max,\\ exp} =  2.90\\ million\\ nm\\ K/ 5778\\ K = 502\\ nm $, i.e. at a green wavelength.\n",
      "Read of from the graph is $\\lambda_{max} = 861 $ nm."
     ]
    },
    {
     "cell_type": "code",
     "collapsed": false,
     "input": [
      "a=outer(ones(10),linspace(780,800,10))\n",
      "x = linspace(0,1,10)\n",
      "imshow(a,cmap=get_cmap(cm.spectral),origin=\"lower\")\n",
      "show()"
     ],
     "language": "python",
     "metadata": {},
     "outputs": [],
     "prompt_number": 14
    },
    {
     "cell_type": "code",
     "collapsed": false,
     "input": [
      "figure()\n",
      "x=linspace(0,10,100)\n",
      "plot(x,x)\n",
      "a = axes([0.2, .2, 0.4, 0.2])\n",
      "# (x_left_lower_corner [Unit?] , y_left_lower_corner , width [Unit?] , height [Unit?])\n",
      "title('Zoom', color = 'grey')\n",
      "plot(x,x)\n",
      "\n",
      "show()"
     ],
     "language": "python",
     "metadata": {},
     "outputs": [],
     "prompt_number": 8
    },
    {
     "cell_type": "code",
     "collapsed": false,
     "input": [],
     "language": "python",
     "metadata": {},
     "outputs": []
    }
   ],
   "metadata": {}
  }
 ]
}