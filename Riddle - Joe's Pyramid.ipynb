{
 "metadata": {
  "name": "Riddle - Joe's Pyramid"
 },
 "nbformat": 3,
 "nbformat_minor": 0,
 "worksheets": [
  {
   "cells": [
    {
     "cell_type": "heading",
     "level": 1,
     "metadata": {},
     "source": [
      "Riddle - Joe's Pyramid"
     ]
    },
    {
     "cell_type": "markdown",
     "metadata": {},
     "source": [
      "<img src=\"http://linbaba.files.wordpress.com/2011/01/enigm2.gif\" width=250 />"
     ]
    },
    {
     "cell_type": "markdown",
     "metadata": {},
     "source": [
      "There are three conditions: \n",
      "<ol>\n",
      "<li>all numbers are different</li>\n",
      "<li>all numbers are smaller or equal 99 </li>\n",
      "    <li>number[row above,i] = number[row below, i-1/2] + number[row below,i+1/2] </li>\n",
      "</ol> \n",
      "\n",
      "Brute force = try out? \n",
      "the whole pyramid is determined by the floor, which has 6 brickets. there are 99 numbers which can be filled into this 6 brickets. The order in which the numbers are filled into the groundstone brickets counts, since they will end up in different sums in the upper part of the pyramid, giving \n",
      "$$\\binom{99}{6} \\approx \\frac{99\\cdot 98 \\cdot ... \\cdot 94}{6!} \\approx \\frac{10^5}{720} \\approx 100 $$ \n",
      "possibilities."
     ]
    },
    {
     "cell_type": "code",
     "collapsed": false,
     "input": [],
     "language": "python",
     "metadata": {},
     "outputs": []
    }
   ],
   "metadata": {}
  }
 ]
}